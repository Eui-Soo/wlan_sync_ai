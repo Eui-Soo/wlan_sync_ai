{
 "cells": [
  {
   "cell_type": "code",
   "execution_count": 1,
   "metadata": {},
   "outputs": [
    {
     "name": "stderr",
     "output_type": "stream",
     "text": [
      "Using TensorFlow backend.\n"
     ]
    }
   ],
   "source": [
    "import numpy as np\n",
    "import h5py\n",
    "from keras.models import Model\n",
    "from keras import models\n",
    "from keras import layers\n",
    "from keras import Input\n",
    "from keras import optimizers\n",
    "from keras.layers import Dropout\n",
    "from keras.layers import BatchNormalization\n",
    "import pydot\n",
    "import graphviz\n",
    "from IPython.display import SVG\n",
    "from keras.utils.vis_utils import model_to_dot\n",
    "from keras.utils.vis_utils import plot_model\n",
    "from keras.models import load_model\n",
    "channel_model=['B','C','D','E','F']\n",
    "\n",
    "import tensorflow as tf\n",
    "from keras.backend.tensorflow_backend import set_session\n",
    "\n",
    "config = tf.ConfigProto()\n",
    "config.gpu_options.per_process_gpu_memory_fraction = 0.3\n",
    "set_session(tf.Session(config=config))\n"
   ]
  },
  {
   "cell_type": "code",
   "execution_count": null,
   "metadata": {},
   "outputs": [
    {
     "name": "stdout",
     "output_type": "stream",
     "text": [
      "WARNING:tensorflow:From C:\\Users\\user\\Anaconda3\\lib\\site-packages\\keras\\backend\\tensorflow_backend.py:4070: The name tf.nn.max_pool is deprecated. Please use tf.nn.max_pool2d instead.\n",
      "\n",
      "WARNING:tensorflow:From C:\\Users\\user\\Anaconda3\\lib\\site-packages\\keras\\backend\\tensorflow_backend.py:422: The name tf.global_variables is deprecated. Please use tf.compat.v1.global_variables instead.\n",
      "\n",
      "50000/50000 [==============================] - 12s 246us/step\n",
      "-10 [49.50109841 49.50109246]\n",
      "50000/50000 [==============================] - 11s 210us/step\n",
      "-9 [40.61259091 40.61259276]\n",
      "50000/50000 [==============================] - 10s 209us/step\n",
      "-8 [33.73372275 33.73372365]\n",
      "50000/50000 [==============================] - 10s 210us/step\n",
      "-7 [26.26654777 26.26654752]\n",
      "50000/50000 [==============================] - 12s 241us/step\n",
      "-6 [21.75538502 21.75538376]\n",
      "50000/50000 [==============================] - 14s 275us/step\n",
      "-5 [16.70576736 16.70576763]\n",
      "50000/50000 [==============================] - 14s 277us/step\n",
      "-4 [12.79475188 12.79475357]\n",
      "50000/50000 [==============================] - 14s 272us/step\n",
      "-3 [10.10040906 10.10040876]\n",
      "50000/50000 [==============================] - 14s 274us/step\n",
      "-2 [8.50894225 8.50894099]\n",
      "50000/50000 [==============================] - 14s 278us/step\n",
      "-1 [6.36067688 6.36067655]\n",
      "50000/50000 [==============================] - 14s 272us/step\n",
      "0 [5.39832066 5.39832108]\n",
      "50000/50000 [==============================] - 14s 276us/step\n",
      "1 [4.62212285 4.62212282]\n",
      "50000/50000 [==============================] - 13s 263us/step\n",
      "2 [3.90700947 3.90700969]\n",
      "50000/50000 [==============================] - 14s 272us/step\n",
      "3 [3.57095529 3.57095551]\n",
      "50000/50000 [==============================] - 14s 273us/step\n",
      "4 [3.20560213 3.20560207]\n",
      "50000/50000 [==============================] - 14s 278us/step\n",
      "5 [2.99621317 2.99621359]\n",
      "50000/50000 [==============================] - 14s 278us/step\n",
      "6 [2.79655101 2.79655054]\n",
      "50000/50000 [==============================] - 14s 275us/step\n",
      "7 [2.60771112 2.6077109 ]\n",
      "50000/50000 [==============================] - 13s 254us/step\n",
      "8 [2.46387714 2.46387706]\n",
      "50000/50000 [==============================] - 13s 261us/step\n",
      "9 [2.36465394 2.36465379]\n",
      "50000/50000 [==============================] - 13s 267us/step\n",
      "10 [2.26053588 2.260536  ]\n",
      "50000/50000 [==============================] - 13s 269us/step\n",
      "11 [2.19860255 2.19860246]\n",
      "50000/50000 [==============================] - 12s 249us/step\n",
      "12 [2.12923421 2.12923447]\n",
      "50000/50000 [==============================] - 13s 265us/step\n",
      "13 [2.08318973 2.08318991]\n",
      "50000/50000 [==============================] - 13s 270us/step\n",
      "14 [2.05297586 2.05297583]\n",
      "49500/50000 [============================>.] - ETA: 0s"
     ]
    }
   ],
   "source": [
    "for model_idx in channel_model:\n",
    "    model_name='wlan_CFO_model_%s_v3.h5' % model_idx\n",
    "    model = load_model(model_name)\n",
    "    SNR=range(-10,31)\n",
    "    if model_idx=='B':\n",
    "        RMSE_B=[]\n",
    "    elif model_idx=='C':\n",
    "        RMSE_C=[]\n",
    "    elif model_idx=='D':\n",
    "        RMSE_D=[]\n",
    "    elif model_idx=='E':\n",
    "        RMSE_E=[]\n",
    "    elif model_idx=='F':\n",
    "        RMSE_F=[]\n",
    "    for SNR_loop in SNR:\n",
    "        filepath='D:/논문연구/WLAN/wlan_test_set_CFO_model_{0}_SNR({1}).mat' .format(model_idx, SNR_loop)\n",
    "        f=h5py.File(filepath,'r')\n",
    "        test_data=np.array(f['Test_data'][:])\n",
    "        test_cfo_label=np.array(f['Test_data_cfo_label'][:])/1e3\n",
    "        RMSE_tmp=model.evaluate(test_data, [test_cfo_label],batch_size=500)\n",
    "        print(SNR_loop,np.sqrt(RMSE_tmp))\n",
    "        if model_idx=='B':\n",
    "            RMSE_B.append(np.sqrt(RMSE_tmp))\n",
    "        elif model_idx=='C':\n",
    "            RMSE_C.append(np.sqrt(RMSE_tmp))\n",
    "        elif model_idx=='D':\n",
    "            RMSE_D.append(np.sqrt(RMSE_tmp))\n",
    "        elif model_idx=='E':\n",
    "            RMSE_E.append(np.sqrt(RMSE_tmp))\n",
    "        elif model_idx=='F':\n",
    "            RMSE_F.append(np.sqrt(RMSE_tmp))\n",
    "np.save('model_B_CFO_RMSE_v2.npy',RMSE_B)\n",
    "np.save('model_C_CFO_RMSE_v2.npy',RMSE_C)\n",
    "np.save('model_D_CFO_RMSE_v2.npy',RMSE_D)\n",
    "np.save('model_E_CFO_RMSE_v2.npy',RMSE_E)\n",
    "np.save('model_F_CFO_RMSE_v2.npy',RMSE_F)"
   ]
  },
  {
   "cell_type": "code",
   "execution_count": null,
   "metadata": {},
   "outputs": [],
   "source": []
  }
 ],
 "metadata": {
  "kernelspec": {
   "display_name": "Python 3",
   "language": "python",
   "name": "python3"
  },
  "language_info": {
   "codemirror_mode": {
    "name": "ipython",
    "version": 3
   },
   "file_extension": ".py",
   "mimetype": "text/x-python",
   "name": "python",
   "nbconvert_exporter": "python",
   "pygments_lexer": "ipython3",
   "version": "3.6.9"
  }
 },
 "nbformat": 4,
 "nbformat_minor": 2
}
